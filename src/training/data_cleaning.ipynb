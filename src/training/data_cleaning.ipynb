{
 "cells": [
  {
   "cell_type": "code",
   "execution_count": null,
   "id": "6af9cd03",
   "metadata": {},
   "outputs": [
    {
     "name": "stdout",
     "output_type": "stream",
     "text": [
      "Loading: ..\\..\\data\\01_raw\\ayu-sat-table-a.csv\n",
      "Loading: ..\\..\\data\\01_raw\\ayu-sat-table-b.csv\n",
      "Loading: ..\\..\\data\\01_raw\\ayu-sat-table-c.csv\n",
      "\n",
      "Loaded Rows: A(319), B(514), C(176)\n"
     ]
    }
   ],
   "source": [
    "# file loading\n",
    "import pandas as pd\n",
    "import os\n",
    "import re\n",
    "from IPython.display import display\n",
    "\n",
    "# Fix: Use correct relative path to data folder (go up two levels)\n",
    "raw_data_path = os.path.join('..', '..', 'data', '01_raw')\n",
    "processed_data_path = os.path.join('..', '..', 'data', '02_processed')\n",
    "\n",
    "# ensuring processed directory exists\n",
    "os.makedirs(processed_data_path,exist_ok=True)\n",
    "\n",
    "# These lines were already correct, but verify they are still there\n",
    "file_a=os.path.join(raw_data_path,'ayu-sat-table-a.csv')\n",
    "file_b=os.path.join(raw_data_path,'ayu-sat-table-b.csv')\n",
    "file_c=os.path.join(raw_data_path,'ayu-sat-table-c.csv')\n",
    "\n",
    "column_maps={\n",
    "    'Code':'sat_code',\n",
    "    'Word':'ayurvedic_term',\n",
    "    'Short Defination':'short_definition',\n",
    "    'Long Defination':'long_definition'\n",
    "}\n",
    "\n",
    "def load_and_tag(file_path,tag):\n",
    "    \"\"\"loads a file, renames columns, and adds a source tag.\"\"\"\n",
    "    print(f\"Loading: {file_path}\")\n",
    "    df=pd.read_csv(file_path,encoding='latin1')\n",
    "    df=df.rename(columns={k:v for k,v in column_maps.items() if k in df.columns})\n",
    "\n",
    "    # ensuring all the required columns exists\n",
    "    for col in column_maps.values():\n",
    "        if col not in df.columns:\n",
    "            df[col]=''\n",
    "    \n",
    "    df['source_dataset']=tag\n",
    "    return df[list(column_maps.values())+['source_dataset']]\n",
    "\n",
    "# loading datasets\n",
    "df_a=load_and_tag(file_a,'SAT_A')\n",
    "df_b=load_and_tag(file_b,'SAT_B')\n",
    "df_c=load_and_tag(file_c,'SAT_C')\n",
    "\n",
    "print(f\"\\nLoaded Rows: A({len(df_a)}), B({len(df_b)}), C({len(df_c)})\")"
   ]
  },
  {
   "cell_type": "code",
   "execution_count": null,
   "id": "c647fb09",
   "metadata": {},
   "outputs": [],
   "source": []
  }
 ],
 "metadata": {
  "kernelspec": {
   "display_name": "Python 3",
   "language": "python",
   "name": "python3"
  },
  "language_info": {
   "codemirror_mode": {
    "name": "ipython",
    "version": 3
   },
   "file_extension": ".py",
   "mimetype": "text/x-python",
   "name": "python",
   "nbconvert_exporter": "python",
   "pygments_lexer": "ipython3",
   "version": "3.12.4"
  }
 },
 "nbformat": 4,
 "nbformat_minor": 5
}
